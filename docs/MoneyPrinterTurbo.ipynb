{
  "cells": [
    {
      "cell_type": "markdown",
      "metadata": {},
      "source": [
        "# MoneyPrinterTurbo 安裝指南\n",
        "\n",
        "此筆記本將引導您完成 [MoneyPrinterTurbo](https://github.com/terryuuang/Text2Video-ForkyEdition) 的安裝程序。"
      ]
    },
    {
      "cell_type": "markdown",
      "metadata": {},
      "source": [
        "## 1. 複製儲存庫並安裝相依套件\n",
        "\n",
        "首先，我們將從 GitHub 複製儲存庫並安裝所有必需的套件："
      ]
    },
    {
      "cell_type": "code",
      "execution_count": null,
      "metadata": {
        "id": "S8Eu-aQarY_B"
      },
      "outputs": [],
      "source": [
        "# 複製專案儲存庫\n",
        "!git clone https://github.com/terryuuang/Text2Video-ForkyEdition.git\n",
        "%cd MoneyPrinterTurbo\n",
        "\n",
        "# 安裝必要的Python套件\n",
        "!pip install -q -r requirements.txt\n",
        "!pip install pyngrok --quiet\n",
        "\n",
        "print(\"✅ 套件安裝完成！\")"
      ]
    },
    {
      "cell_type": "markdown",
      "metadata": {},
      "source": [
        "## 2. 設定 ngrok 進行遠端存取\n",
        "\n",
        "我們將使用 ngrok 建立安全通道，將本機 Streamlit 伺服器公開到網際網路。\n",
        "\n",
        "**重要**：您需要從 [ngrok 控制台](https://dashboard.ngrok.com/get-started/your-authtoken) 取得您的認證權杖才能使用此服務。"
      ]
    },
    {
      "cell_type": "code",
      "execution_count": null,
      "metadata": {},
      "outputs": [],
      "source": [
        "from pyngrok import ngrok\n",
        "\n",
        "# 終止所有現有的 ngrok 通道\n",
        "ngrok.kill()\n",
        "\n",
        "# 設定您的認證權杖\n",
        "# 請將 \"your_ngrok_auth_token\" 替換為您的實際權杖\n",
        "ngrok.set_auth_token(\"your_ngrok_auth_token\")\n",
        "\n",
        "print(\"✅ ngrok 設定完成！\")"
      ]
    },
    {
      "cell_type": "markdown",
      "metadata": {},
      "source": [
        "## 3. 啟動應用程式並產生公開網址\n",
        "\n",
        "現在我們將啟動 Streamlit 伺服器並建立 ngrok 通道，使其可以在線上存取："
      ]
    },
    {
      "cell_type": "code",
      "execution_count": null,
      "metadata": {
        "colab": {
          "base_uri": "https://localhost:8080/"
        },
        "collapsed": true,
        "id": "oahsIOXmwjl9",
        "outputId": "ee23a96c-af21-4207-deb7-9fab69e0c05e"
      },
      "outputs": [],
      "source": [
        "import subprocess\n",
        "import time\n",
        "import threading\n",
        "from IPython.display import display, HTML, Javascript\n",
        "\n",
        "print(\"🚀 正在啟動 MoneyPrinterTurbo...\")\n",
        "\n",
        "# 在埠 8501 上啟動 Streamlit 伺服器\n",
        "streamlit_proc = subprocess.Popen([\n",
        "    \"streamlit\", \"run\", \"./webui/Main.py\", \"--server.port=8501\"\n",
        "])\n",
        "\n",
        "# 等待伺服器初始化\n",
        "time.sleep(5)\n",
        "\n",
        "print(\"🌐 正在建立 ngrok 通道以公開 MoneyPrinterTurbo...\")\n",
        "public_url = ngrok.connect(8501, bind_tls=True)\n",
        "\n",
        "print(\"✅ 部署完成！請在以下網址存取您的 MoneyPrinterTurbo：\")\n",
        "print(f\"🔗 公開網址：{public_url}\")\n",
        "\n",
        "# 防止 Colab 休眠功能\n",
        "def keep_alive():\n",
        "    \"\"\"防止 Colab 因無互動而休眠\"\"\"\n",
        "    import time\n",
        "    import random\n",
        "\n",
        "    counter = 0\n",
        "    while True:\n",
        "        time.sleep(300)  # 每5分鐘執行一次\n",
        "        counter += 1\n",
        "        # 輸出一些輕量資訊來保持活躍\n",
        "        print(f\"⏰ 系統保持活躍中... ({counter * 5} 分鐘)\")\n",
        "\n",
        "        # 每30分鐘顯示一次完整狀態\n",
        "        if counter % 6 == 0:\n",
        "            print(f\"🌟 MoneyPrinterTurbo 持續運行中！\")\n",
        "            print(f\"🔗 您的網址：{public_url}\")\n",
        "\n",
        "# 在背景執行緒中啟動防休眠功能\n",
        "keep_alive_thread = threading.Thread(target=keep_alive, daemon=True)\n",
        "keep_alive_thread.start()\n",
        "\n",
        "# 顯示 JavaScript 程式碼來防止頁面休眠\n",
        "display(Javascript('''\n",
        "function ClickConnect(){\n",
        "    console.log(\"保持連接活躍中...\");\n",
        "    // 每隔一段時間模擬滑鼠活動\n",
        "    setInterval(function(){\n",
        "        document.body.click();\n",
        "    }, 60000); // 每分鐘點擊一次\n",
        "}\n",
        "ClickConnect();\n",
        "'''))\n",
        "\n",
        "print(\"🛡️ 已啟動防休眠保護！\")\n",
        "print(\"📝 注意：請保持此分頁開啟，以維持服務運行。\")"
      ]
    },
    {
      "cell_type": "code",
      "execution_count": null,
      "metadata": {},
      "outputs": [],
      "source": [
        "## 4. 防止 Colab 休眠說明\n",
        "\n",
        "為了確保 MoneyPrinterTurbo 能夠持續運行，本筆記本已實作以下防休眠機制：\n",
        "\n",
        "### 🛡️ 自動防護功能\n",
        "- **背景執行緒**：每 5 分鐘自動輸出狀態資訊\n",
        "- **JavaScript 模擬**：每分鐘自動模擬使用者互動\n",
        "- **狀態監控**：每 30 分鐘顯示完整系統狀態\n",
        "\n",
        "### 📋 使用注意事項\n",
        "1. **保持分頁開啟**：請不要關閉此 Colab 分頁\n",
        "2. **網路連線**：確保網路連線穩定\n",
        "3. **瀏覽器設定**：建議使用 Chrome 或 Edge 瀏覽器\n",
        "4. **監控狀態**：注意觀察下方的狀態輸出訊息\n",
        "\n",
        "### 🚨 如果服務中斷\n",
        "如果 MoneyPrinterTurbo 停止運行，請：\n",
        "1. 檢查網路連線\n",
        "2. 重新執行上方的啟動程式碼\n",
        "3. 確認 ngrok 權杖是否正確設定\n",
        "\n",
        "---\n",
        "\n",
        "🎉 **現在您可以開始使用 MoneyPrinterTurbo 了！**\n"
      ]
    }
  ],
  "metadata": {
    "colab": {
      "provenance": []
    },
    "kernelspec": {
      "display_name": "Python 3",
      "name": "python3"
    },
    "language_info": {
      "name": "python"
    }
  },
  "nbformat": 4,
  "nbformat_minor": 0
}
